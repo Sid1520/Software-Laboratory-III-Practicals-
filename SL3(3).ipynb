{
 "cells": [
  {
   "cell_type": "code",
   "execution_count": null,
   "id": "1b2089c0-120c-4f51-84d2-b0abf7841257",
   "metadata": {},
   "outputs": [],
   "source": [
    "Name : Tavhare Siddhi Santosh\n",
    "Roll No : 59\n",
    "Practical No : 3"
   ]
  },
  {
   "cell_type": "code",
   "execution_count": 1,
   "id": "3e7247ee-3a20-4e93-9f3f-d8af6123c262",
   "metadata": {},
   "outputs": [],
   "source": [
    "import pandas as pd"
   ]
  },
  {
   "cell_type": "code",
   "execution_count": 2,
   "id": "bb9eaec3-9dfc-4f24-9c2f-8269db222d74",
   "metadata": {},
   "outputs": [],
   "source": [
    "import numpy as np"
   ]
  },
  {
   "cell_type": "code",
   "execution_count": 3,
   "id": "9da613ae-ddcb-4901-becf-d01159a9b962",
   "metadata": {},
   "outputs": [],
   "source": [
    "df=pd.read_csv(\"Documents\\Income Status.csv\")"
   ]
  },
  {
   "cell_type": "code",
   "execution_count": 4,
   "id": "85cb8374-8910-4d02-969a-9d2c24ab5c16",
   "metadata": {},
   "outputs": [
    {
     "data": {
      "text/html": [
       "<div>\n",
       "<style scoped>\n",
       "    .dataframe tbody tr th:only-of-type {\n",
       "        vertical-align: middle;\n",
       "    }\n",
       "\n",
       "    .dataframe tbody tr th {\n",
       "        vertical-align: top;\n",
       "    }\n",
       "\n",
       "    .dataframe thead th {\n",
       "        text-align: right;\n",
       "    }\n",
       "</style>\n",
       "<table border=\"1\" class=\"dataframe\">\n",
       "  <thead>\n",
       "    <tr style=\"text-align: right;\">\n",
       "      <th></th>\n",
       "      <th>Customer ID</th>\n",
       "      <th>Age</th>\n",
       "      <th>Annual Income</th>\n",
       "      <th>Spending Score</th>\n",
       "      <th>Gender</th>\n",
       "    </tr>\n",
       "  </thead>\n",
       "  <tbody>\n",
       "    <tr>\n",
       "      <th>0</th>\n",
       "      <td>10108</td>\n",
       "      <td>23</td>\n",
       "      <td>15000</td>\n",
       "      <td>10</td>\n",
       "      <td>Male</td>\n",
       "    </tr>\n",
       "    <tr>\n",
       "      <th>1</th>\n",
       "      <td>10109</td>\n",
       "      <td>21</td>\n",
       "      <td>20000</td>\n",
       "      <td>15</td>\n",
       "      <td>Male</td>\n",
       "    </tr>\n",
       "    <tr>\n",
       "      <th>2</th>\n",
       "      <td>101010</td>\n",
       "      <td>24</td>\n",
       "      <td>25000</td>\n",
       "      <td>34</td>\n",
       "      <td>Male</td>\n",
       "    </tr>\n",
       "    <tr>\n",
       "      <th>3</th>\n",
       "      <td>101011</td>\n",
       "      <td>25</td>\n",
       "      <td>27500</td>\n",
       "      <td>25</td>\n",
       "      <td>Female</td>\n",
       "    </tr>\n",
       "    <tr>\n",
       "      <th>4</th>\n",
       "      <td>101012</td>\n",
       "      <td>23</td>\n",
       "      <td>45000</td>\n",
       "      <td>45</td>\n",
       "      <td>Male</td>\n",
       "    </tr>\n",
       "    <tr>\n",
       "      <th>5</th>\n",
       "      <td>101013</td>\n",
       "      <td>26</td>\n",
       "      <td>23000</td>\n",
       "      <td>38</td>\n",
       "      <td>Female</td>\n",
       "    </tr>\n",
       "    <tr>\n",
       "      <th>6</th>\n",
       "      <td>101014</td>\n",
       "      <td>28</td>\n",
       "      <td>43600</td>\n",
       "      <td>67</td>\n",
       "      <td>Female</td>\n",
       "    </tr>\n",
       "    <tr>\n",
       "      <th>7</th>\n",
       "      <td>111015</td>\n",
       "      <td>30</td>\n",
       "      <td>21567</td>\n",
       "      <td>45</td>\n",
       "      <td>Male</td>\n",
       "    </tr>\n",
       "    <tr>\n",
       "      <th>8</th>\n",
       "      <td>111016</td>\n",
       "      <td>23</td>\n",
       "      <td>45367</td>\n",
       "      <td>78</td>\n",
       "      <td>Male</td>\n",
       "    </tr>\n",
       "    <tr>\n",
       "      <th>9</th>\n",
       "      <td>111017</td>\n",
       "      <td>25</td>\n",
       "      <td>45789</td>\n",
       "      <td>34</td>\n",
       "      <td>Female</td>\n",
       "    </tr>\n",
       "    <tr>\n",
       "      <th>10</th>\n",
       "      <td>111018</td>\n",
       "      <td>28</td>\n",
       "      <td>23000</td>\n",
       "      <td>56</td>\n",
       "      <td>Female</td>\n",
       "    </tr>\n",
       "    <tr>\n",
       "      <th>11</th>\n",
       "      <td>111019</td>\n",
       "      <td>29</td>\n",
       "      <td>21000</td>\n",
       "      <td>78</td>\n",
       "      <td>Female</td>\n",
       "    </tr>\n",
       "    <tr>\n",
       "      <th>12</th>\n",
       "      <td>111020</td>\n",
       "      <td>31</td>\n",
       "      <td>47000</td>\n",
       "      <td>90</td>\n",
       "      <td>Male</td>\n",
       "    </tr>\n",
       "    <tr>\n",
       "      <th>13</th>\n",
       "      <td>111021</td>\n",
       "      <td>27</td>\n",
       "      <td>23650</td>\n",
       "      <td>34</td>\n",
       "      <td>Male</td>\n",
       "    </tr>\n",
       "  </tbody>\n",
       "</table>\n",
       "</div>"
      ],
      "text/plain": [
       "    Customer ID  Age  Annual Income  Spending Score  Gender\n",
       "0         10108   23          15000              10    Male\n",
       "1         10109   21          20000              15    Male\n",
       "2        101010   24          25000              34    Male\n",
       "3        101011   25          27500              25  Female\n",
       "4        101012   23          45000              45    Male\n",
       "5        101013   26          23000              38  Female\n",
       "6        101014   28          43600              67  Female\n",
       "7        111015   30          21567              45    Male\n",
       "8        111016   23          45367              78    Male\n",
       "9        111017   25          45789              34  Female\n",
       "10       111018   28          23000              56  Female\n",
       "11       111019   29          21000              78  Female\n",
       "12       111020   31          47000              90    Male\n",
       "13       111021   27          23650              34    Male"
      ]
     },
     "execution_count": 4,
     "metadata": {},
     "output_type": "execute_result"
    }
   ],
   "source": [
    "df"
   ]
  },
  {
   "cell_type": "code",
   "execution_count": 6,
   "id": "3ebb37bb-6bc0-4594-8eb0-0d7d43b3d1ff",
   "metadata": {},
   "outputs": [],
   "source": [
    "from sklearn.preprocessing import LabelEncoder\n",
    "le = LabelEncoder()\n",
    "df['Gender'] = le.fit_transform(df['Gender'])"
   ]
  },
  {
   "cell_type": "code",
   "execution_count": 7,
   "id": "6501888b-7b51-4eab-bea9-8a1493719b94",
   "metadata": {},
   "outputs": [],
   "source": [
    "newdf=df"
   ]
  },
  {
   "cell_type": "code",
   "execution_count": 8,
   "id": "965b4eb0-cbb2-4820-860d-880f1f553113",
   "metadata": {},
   "outputs": [
    {
     "data": {
      "text/html": [
       "<div>\n",
       "<style scoped>\n",
       "    .dataframe tbody tr th:only-of-type {\n",
       "        vertical-align: middle;\n",
       "    }\n",
       "\n",
       "    .dataframe tbody tr th {\n",
       "        vertical-align: top;\n",
       "    }\n",
       "\n",
       "    .dataframe thead th {\n",
       "        text-align: right;\n",
       "    }\n",
       "</style>\n",
       "<table border=\"1\" class=\"dataframe\">\n",
       "  <thead>\n",
       "    <tr style=\"text-align: right;\">\n",
       "      <th></th>\n",
       "      <th>Customer ID</th>\n",
       "      <th>Age</th>\n",
       "      <th>Annual Income</th>\n",
       "      <th>Spending Score</th>\n",
       "      <th>Gender</th>\n",
       "    </tr>\n",
       "  </thead>\n",
       "  <tbody>\n",
       "    <tr>\n",
       "      <th>0</th>\n",
       "      <td>10108</td>\n",
       "      <td>23</td>\n",
       "      <td>15000</td>\n",
       "      <td>10</td>\n",
       "      <td>1</td>\n",
       "    </tr>\n",
       "    <tr>\n",
       "      <th>1</th>\n",
       "      <td>10109</td>\n",
       "      <td>21</td>\n",
       "      <td>20000</td>\n",
       "      <td>15</td>\n",
       "      <td>1</td>\n",
       "    </tr>\n",
       "    <tr>\n",
       "      <th>2</th>\n",
       "      <td>101010</td>\n",
       "      <td>24</td>\n",
       "      <td>25000</td>\n",
       "      <td>34</td>\n",
       "      <td>1</td>\n",
       "    </tr>\n",
       "    <tr>\n",
       "      <th>3</th>\n",
       "      <td>101011</td>\n",
       "      <td>25</td>\n",
       "      <td>27500</td>\n",
       "      <td>25</td>\n",
       "      <td>0</td>\n",
       "    </tr>\n",
       "    <tr>\n",
       "      <th>4</th>\n",
       "      <td>101012</td>\n",
       "      <td>23</td>\n",
       "      <td>45000</td>\n",
       "      <td>45</td>\n",
       "      <td>1</td>\n",
       "    </tr>\n",
       "    <tr>\n",
       "      <th>5</th>\n",
       "      <td>101013</td>\n",
       "      <td>26</td>\n",
       "      <td>23000</td>\n",
       "      <td>38</td>\n",
       "      <td>0</td>\n",
       "    </tr>\n",
       "    <tr>\n",
       "      <th>6</th>\n",
       "      <td>101014</td>\n",
       "      <td>28</td>\n",
       "      <td>43600</td>\n",
       "      <td>67</td>\n",
       "      <td>0</td>\n",
       "    </tr>\n",
       "    <tr>\n",
       "      <th>7</th>\n",
       "      <td>111015</td>\n",
       "      <td>30</td>\n",
       "      <td>21567</td>\n",
       "      <td>45</td>\n",
       "      <td>1</td>\n",
       "    </tr>\n",
       "    <tr>\n",
       "      <th>8</th>\n",
       "      <td>111016</td>\n",
       "      <td>23</td>\n",
       "      <td>45367</td>\n",
       "      <td>78</td>\n",
       "      <td>1</td>\n",
       "    </tr>\n",
       "    <tr>\n",
       "      <th>9</th>\n",
       "      <td>111017</td>\n",
       "      <td>25</td>\n",
       "      <td>45789</td>\n",
       "      <td>34</td>\n",
       "      <td>0</td>\n",
       "    </tr>\n",
       "    <tr>\n",
       "      <th>10</th>\n",
       "      <td>111018</td>\n",
       "      <td>28</td>\n",
       "      <td>23000</td>\n",
       "      <td>56</td>\n",
       "      <td>0</td>\n",
       "    </tr>\n",
       "    <tr>\n",
       "      <th>11</th>\n",
       "      <td>111019</td>\n",
       "      <td>29</td>\n",
       "      <td>21000</td>\n",
       "      <td>78</td>\n",
       "      <td>0</td>\n",
       "    </tr>\n",
       "    <tr>\n",
       "      <th>12</th>\n",
       "      <td>111020</td>\n",
       "      <td>31</td>\n",
       "      <td>47000</td>\n",
       "      <td>90</td>\n",
       "      <td>1</td>\n",
       "    </tr>\n",
       "    <tr>\n",
       "      <th>13</th>\n",
       "      <td>111021</td>\n",
       "      <td>27</td>\n",
       "      <td>23650</td>\n",
       "      <td>34</td>\n",
       "      <td>1</td>\n",
       "    </tr>\n",
       "  </tbody>\n",
       "</table>\n",
       "</div>"
      ],
      "text/plain": [
       "    Customer ID  Age  Annual Income  Spending Score  Gender\n",
       "0         10108   23          15000              10       1\n",
       "1         10109   21          20000              15       1\n",
       "2        101010   24          25000              34       1\n",
       "3        101011   25          27500              25       0\n",
       "4        101012   23          45000              45       1\n",
       "5        101013   26          23000              38       0\n",
       "6        101014   28          43600              67       0\n",
       "7        111015   30          21567              45       1\n",
       "8        111016   23          45367              78       1\n",
       "9        111017   25          45789              34       0\n",
       "10       111018   28          23000              56       0\n",
       "11       111019   29          21000              78       0\n",
       "12       111020   31          47000              90       1\n",
       "13       111021   27          23650              34       1"
      ]
     },
     "execution_count": 8,
     "metadata": {},
     "output_type": "execute_result"
    }
   ],
   "source": [
    "df"
   ]
  },
  {
   "cell_type": "code",
   "execution_count": 9,
   "id": "383ce8ed-b567-4050-a927-cddeb1f9b202",
   "metadata": {},
   "outputs": [
    {
     "data": {
      "text/plain": [
       "Customer ID       93028.785714\n",
       "Age                  25.928571\n",
       "Annual Income     30462.357143\n",
       "Spending Score       46.357143\n",
       "Gender                0.571429\n",
       "dtype: float64"
      ]
     },
     "execution_count": 9,
     "metadata": {},
     "output_type": "execute_result"
    }
   ],
   "source": [
    "df.mean()"
   ]
  },
  {
   "cell_type": "code",
   "execution_count": 10,
   "id": "3abab818-62df-446d-a5bd-5780b532c9e8",
   "metadata": {},
   "outputs": [
    {
     "data": {
      "text/plain": [
       "25.928571428571427"
      ]
     },
     "execution_count": 10,
     "metadata": {},
     "output_type": "execute_result"
    }
   ],
   "source": [
    "df.loc[:,'Age'].mean()"
   ]
  },
  {
   "cell_type": "code",
   "execution_count": 11,
   "id": "4592f572-bcaa-4924-834f-ee13921aca6e",
   "metadata": {},
   "outputs": [
    {
     "data": {
      "text/plain": [
       "0     5028.4\n",
       "1     6029.2\n",
       "2    25213.8\n",
       "3    25712.2\n",
       "dtype: float64"
      ]
     },
     "execution_count": 11,
     "metadata": {},
     "output_type": "execute_result"
    }
   ],
   "source": [
    "df.mean(axis=1)[0:4]"
   ]
  },
  {
   "cell_type": "code",
   "execution_count": 12,
   "id": "fc001e95-79d9-4945-bd5c-4f565070e698",
   "metadata": {},
   "outputs": [
    {
     "data": {
      "text/plain": [
       "Customer ID       106014.5\n",
       "Age                   25.5\n",
       "Annual Income      24325.0\n",
       "Spending Score        41.5\n",
       "Gender                 1.0\n",
       "dtype: float64"
      ]
     },
     "execution_count": 12,
     "metadata": {},
     "output_type": "execute_result"
    }
   ],
   "source": [
    "df.median()"
   ]
  },
  {
   "cell_type": "code",
   "execution_count": 13,
   "id": "67dda3e1-44a6-4fcf-ab47-2377c4479938",
   "metadata": {},
   "outputs": [
    {
     "data": {
      "text/plain": [
       "24325.0"
      ]
     },
     "execution_count": 13,
     "metadata": {},
     "output_type": "execute_result"
    }
   ],
   "source": [
    "df.loc[:,'Annual Income'].median()"
   ]
  },
  {
   "cell_type": "code",
   "execution_count": 15,
   "id": "2385d0a0-57df-4b9d-aa6c-5f9955f8991d",
   "metadata": {},
   "outputs": [
    {
     "data": {
      "text/plain": [
       "0    23.0\n",
       "1    21.0\n",
       "2    34.0\n",
       "3    25.0\n",
       "dtype: float64"
      ]
     },
     "execution_count": 15,
     "metadata": {},
     "output_type": "execute_result"
    }
   ],
   "source": [
    "df.median(axis=1)[0:4]"
   ]
  },
  {
   "cell_type": "code",
   "execution_count": 16,
   "id": "05219360-6f1b-4909-8d2d-b8d507ff5b88",
   "metadata": {},
   "outputs": [
    {
     "data": {
      "text/html": [
       "<div>\n",
       "<style scoped>\n",
       "    .dataframe tbody tr th:only-of-type {\n",
       "        vertical-align: middle;\n",
       "    }\n",
       "\n",
       "    .dataframe tbody tr th {\n",
       "        vertical-align: top;\n",
       "    }\n",
       "\n",
       "    .dataframe thead th {\n",
       "        text-align: right;\n",
       "    }\n",
       "</style>\n",
       "<table border=\"1\" class=\"dataframe\">\n",
       "  <thead>\n",
       "    <tr style=\"text-align: right;\">\n",
       "      <th></th>\n",
       "      <th>Customer ID</th>\n",
       "      <th>Age</th>\n",
       "      <th>Annual Income</th>\n",
       "      <th>Spending Score</th>\n",
       "      <th>Gender</th>\n",
       "    </tr>\n",
       "  </thead>\n",
       "  <tbody>\n",
       "    <tr>\n",
       "      <th>0</th>\n",
       "      <td>10108</td>\n",
       "      <td>23.0</td>\n",
       "      <td>23000.0</td>\n",
       "      <td>34.0</td>\n",
       "      <td>1.0</td>\n",
       "    </tr>\n",
       "    <tr>\n",
       "      <th>1</th>\n",
       "      <td>10109</td>\n",
       "      <td>NaN</td>\n",
       "      <td>NaN</td>\n",
       "      <td>NaN</td>\n",
       "      <td>NaN</td>\n",
       "    </tr>\n",
       "    <tr>\n",
       "      <th>2</th>\n",
       "      <td>101010</td>\n",
       "      <td>NaN</td>\n",
       "      <td>NaN</td>\n",
       "      <td>NaN</td>\n",
       "      <td>NaN</td>\n",
       "    </tr>\n",
       "    <tr>\n",
       "      <th>3</th>\n",
       "      <td>101011</td>\n",
       "      <td>NaN</td>\n",
       "      <td>NaN</td>\n",
       "      <td>NaN</td>\n",
       "      <td>NaN</td>\n",
       "    </tr>\n",
       "    <tr>\n",
       "      <th>4</th>\n",
       "      <td>101012</td>\n",
       "      <td>NaN</td>\n",
       "      <td>NaN</td>\n",
       "      <td>NaN</td>\n",
       "      <td>NaN</td>\n",
       "    </tr>\n",
       "    <tr>\n",
       "      <th>5</th>\n",
       "      <td>101013</td>\n",
       "      <td>NaN</td>\n",
       "      <td>NaN</td>\n",
       "      <td>NaN</td>\n",
       "      <td>NaN</td>\n",
       "    </tr>\n",
       "    <tr>\n",
       "      <th>6</th>\n",
       "      <td>101014</td>\n",
       "      <td>NaN</td>\n",
       "      <td>NaN</td>\n",
       "      <td>NaN</td>\n",
       "      <td>NaN</td>\n",
       "    </tr>\n",
       "    <tr>\n",
       "      <th>7</th>\n",
       "      <td>111015</td>\n",
       "      <td>NaN</td>\n",
       "      <td>NaN</td>\n",
       "      <td>NaN</td>\n",
       "      <td>NaN</td>\n",
       "    </tr>\n",
       "    <tr>\n",
       "      <th>8</th>\n",
       "      <td>111016</td>\n",
       "      <td>NaN</td>\n",
       "      <td>NaN</td>\n",
       "      <td>NaN</td>\n",
       "      <td>NaN</td>\n",
       "    </tr>\n",
       "    <tr>\n",
       "      <th>9</th>\n",
       "      <td>111017</td>\n",
       "      <td>NaN</td>\n",
       "      <td>NaN</td>\n",
       "      <td>NaN</td>\n",
       "      <td>NaN</td>\n",
       "    </tr>\n",
       "    <tr>\n",
       "      <th>10</th>\n",
       "      <td>111018</td>\n",
       "      <td>NaN</td>\n",
       "      <td>NaN</td>\n",
       "      <td>NaN</td>\n",
       "      <td>NaN</td>\n",
       "    </tr>\n",
       "    <tr>\n",
       "      <th>11</th>\n",
       "      <td>111019</td>\n",
       "      <td>NaN</td>\n",
       "      <td>NaN</td>\n",
       "      <td>NaN</td>\n",
       "      <td>NaN</td>\n",
       "    </tr>\n",
       "    <tr>\n",
       "      <th>12</th>\n",
       "      <td>111020</td>\n",
       "      <td>NaN</td>\n",
       "      <td>NaN</td>\n",
       "      <td>NaN</td>\n",
       "      <td>NaN</td>\n",
       "    </tr>\n",
       "    <tr>\n",
       "      <th>13</th>\n",
       "      <td>111021</td>\n",
       "      <td>NaN</td>\n",
       "      <td>NaN</td>\n",
       "      <td>NaN</td>\n",
       "      <td>NaN</td>\n",
       "    </tr>\n",
       "  </tbody>\n",
       "</table>\n",
       "</div>"
      ],
      "text/plain": [
       "    Customer ID   Age  Annual Income  Spending Score  Gender\n",
       "0         10108  23.0        23000.0            34.0     1.0\n",
       "1         10109   NaN            NaN             NaN     NaN\n",
       "2        101010   NaN            NaN             NaN     NaN\n",
       "3        101011   NaN            NaN             NaN     NaN\n",
       "4        101012   NaN            NaN             NaN     NaN\n",
       "5        101013   NaN            NaN             NaN     NaN\n",
       "6        101014   NaN            NaN             NaN     NaN\n",
       "7        111015   NaN            NaN             NaN     NaN\n",
       "8        111016   NaN            NaN             NaN     NaN\n",
       "9        111017   NaN            NaN             NaN     NaN\n",
       "10       111018   NaN            NaN             NaN     NaN\n",
       "11       111019   NaN            NaN             NaN     NaN\n",
       "12       111020   NaN            NaN             NaN     NaN\n",
       "13       111021   NaN            NaN             NaN     NaN"
      ]
     },
     "execution_count": 16,
     "metadata": {},
     "output_type": "execute_result"
    }
   ],
   "source": [
    "df.mode()"
   ]
  },
  {
   "cell_type": "code",
   "execution_count": 17,
   "id": "1a26faad-91ed-454f-82fd-7afeb095d76b",
   "metadata": {},
   "outputs": [
    {
     "data": {
      "text/plain": [
       "0    23\n",
       "Name: Age, dtype: int64"
      ]
     },
     "execution_count": 17,
     "metadata": {},
     "output_type": "execute_result"
    }
   ],
   "source": [
    "df.loc[:,'Age'].mode()"
   ]
  },
  {
   "cell_type": "code",
   "execution_count": 18,
   "id": "f037779a-4d4b-4423-b48d-2b88819cce36",
   "metadata": {},
   "outputs": [
    {
     "data": {
      "text/plain": [
       "Customer ID       10108\n",
       "Age                  21\n",
       "Annual Income     15000\n",
       "Spending Score       10\n",
       "Gender                0\n",
       "dtype: int64"
      ]
     },
     "execution_count": 18,
     "metadata": {},
     "output_type": "execute_result"
    }
   ],
   "source": [
    "df.min()"
   ]
  },
  {
   "cell_type": "code",
   "execution_count": 19,
   "id": "6ac921c6-caf4-4af0-be96-e4e0a1041f0c",
   "metadata": {},
   "outputs": [
    {
     "data": {
      "text/plain": [
       "10"
      ]
     },
     "execution_count": 19,
     "metadata": {},
     "output_type": "execute_result"
    }
   ],
   "source": [
    "df.loc[:,'Spending Score'].min(skipna = False)"
   ]
  },
  {
   "cell_type": "code",
   "execution_count": 20,
   "id": "a507b6bf-36f8-4453-ae37-04eb0b59ae32",
   "metadata": {},
   "outputs": [
    {
     "data": {
      "text/plain": [
       "Customer ID       111021\n",
       "Age                   31\n",
       "Annual Income      47000\n",
       "Spending Score        90\n",
       "Gender                 1\n",
       "dtype: int64"
      ]
     },
     "execution_count": 20,
     "metadata": {},
     "output_type": "execute_result"
    }
   ],
   "source": [
    "df.max()"
   ]
  },
  {
   "cell_type": "code",
   "execution_count": 21,
   "id": "e1fab1a0-b21e-4309-ad3a-0d964aa9e10c",
   "metadata": {},
   "outputs": [
    {
     "data": {
      "text/plain": [
       "111021"
      ]
     },
     "execution_count": 21,
     "metadata": {},
     "output_type": "execute_result"
    }
   ],
   "source": [
    "df.loc[:,'Customer ID'].max(skipna = False)"
   ]
  },
  {
   "cell_type": "code",
   "execution_count": 22,
   "id": "ba34b715-f160-473a-83f2-ee0f63930184",
   "metadata": {},
   "outputs": [
    {
     "data": {
      "text/plain": [
       "Customer ID       35448.216805\n",
       "Age                   2.999084\n",
       "Annual Income     11858.435366\n",
       "Spending Score       24.367719\n",
       "Gender                0.513553\n",
       "dtype: float64"
      ]
     },
     "execution_count": 22,
     "metadata": {},
     "output_type": "execute_result"
    }
   ],
   "source": [
    "df.std()"
   ]
  },
  {
   "cell_type": "code",
   "execution_count": 23,
   "id": "236e0015-f491-4d75-a2a4-dace31cee595",
   "metadata": {},
   "outputs": [
    {
     "data": {
      "text/plain": [
       "2.999084109274946"
      ]
     },
     "execution_count": 23,
     "metadata": {},
     "output_type": "execute_result"
    }
   ],
   "source": [
    "df.loc[:,'Age'].std()"
   ]
  },
  {
   "cell_type": "code",
   "execution_count": 24,
   "id": "de89bdb3-62cd-42b1-9ee5-cd78d6768eea",
   "metadata": {},
   "outputs": [
    {
     "data": {
      "text/plain": [
       "0     7084.282977\n",
       "1     8950.367099\n",
       "2    43730.262064\n",
       "3    43743.248699\n",
       "dtype: float64"
      ]
     },
     "execution_count": 24,
     "metadata": {},
     "output_type": "execute_result"
    }
   ],
   "source": [
    "df.std(axis=1)[0:4]"
   ]
  },
  {
   "cell_type": "code",
   "execution_count": 25,
   "id": "3fd1f75c-f1ad-41cb-84fb-439c8d0db39f",
   "metadata": {},
   "outputs": [
    {
     "data": {
      "text/plain": [
       "Gender\n",
       "0    26.833333\n",
       "1    25.250000\n",
       "Name: Age, dtype: float64"
      ]
     },
     "execution_count": 25,
     "metadata": {},
     "output_type": "execute_result"
    }
   ],
   "source": [
    "df.groupby(['Gender'])['Age'].mean()"
   ]
  },
  {
   "cell_type": "code",
   "execution_count": 36,
   "id": "923ccc4e-66a2-4beb-a4ac-d963c2308b39",
   "metadata": {},
   "outputs": [],
   "source": [
    "from sklearn import preprocessing\n",
    "enc = preprocessing.OneHotEncoder()\n",
    "enc_df = pd.DataFrame(enc.fit_transform(df[['Gender']]).toarray())"
   ]
  },
  {
   "cell_type": "code",
   "execution_count": 37,
   "id": "1ebdb04e-8ac9-4b88-92f3-f06bc042ef72",
   "metadata": {},
   "outputs": [
    {
     "data": {
      "text/html": [
       "<div>\n",
       "<style scoped>\n",
       "    .dataframe tbody tr th:only-of-type {\n",
       "        vertical-align: middle;\n",
       "    }\n",
       "\n",
       "    .dataframe tbody tr th {\n",
       "        vertical-align: top;\n",
       "    }\n",
       "\n",
       "    .dataframe thead th {\n",
       "        text-align: right;\n",
       "    }\n",
       "</style>\n",
       "<table border=\"1\" class=\"dataframe\">\n",
       "  <thead>\n",
       "    <tr style=\"text-align: right;\">\n",
       "      <th></th>\n",
       "      <th>0</th>\n",
       "      <th>1</th>\n",
       "    </tr>\n",
       "  </thead>\n",
       "  <tbody>\n",
       "    <tr>\n",
       "      <th>0</th>\n",
       "      <td>0.0</td>\n",
       "      <td>1.0</td>\n",
       "    </tr>\n",
       "    <tr>\n",
       "      <th>1</th>\n",
       "      <td>0.0</td>\n",
       "      <td>1.0</td>\n",
       "    </tr>\n",
       "    <tr>\n",
       "      <th>2</th>\n",
       "      <td>0.0</td>\n",
       "      <td>1.0</td>\n",
       "    </tr>\n",
       "    <tr>\n",
       "      <th>3</th>\n",
       "      <td>1.0</td>\n",
       "      <td>0.0</td>\n",
       "    </tr>\n",
       "    <tr>\n",
       "      <th>4</th>\n",
       "      <td>0.0</td>\n",
       "      <td>1.0</td>\n",
       "    </tr>\n",
       "    <tr>\n",
       "      <th>5</th>\n",
       "      <td>1.0</td>\n",
       "      <td>0.0</td>\n",
       "    </tr>\n",
       "    <tr>\n",
       "      <th>6</th>\n",
       "      <td>1.0</td>\n",
       "      <td>0.0</td>\n",
       "    </tr>\n",
       "    <tr>\n",
       "      <th>7</th>\n",
       "      <td>0.0</td>\n",
       "      <td>1.0</td>\n",
       "    </tr>\n",
       "    <tr>\n",
       "      <th>8</th>\n",
       "      <td>0.0</td>\n",
       "      <td>1.0</td>\n",
       "    </tr>\n",
       "    <tr>\n",
       "      <th>9</th>\n",
       "      <td>1.0</td>\n",
       "      <td>0.0</td>\n",
       "    </tr>\n",
       "    <tr>\n",
       "      <th>10</th>\n",
       "      <td>1.0</td>\n",
       "      <td>0.0</td>\n",
       "    </tr>\n",
       "    <tr>\n",
       "      <th>11</th>\n",
       "      <td>1.0</td>\n",
       "      <td>0.0</td>\n",
       "    </tr>\n",
       "    <tr>\n",
       "      <th>12</th>\n",
       "      <td>0.0</td>\n",
       "      <td>1.0</td>\n",
       "    </tr>\n",
       "    <tr>\n",
       "      <th>13</th>\n",
       "      <td>0.0</td>\n",
       "      <td>1.0</td>\n",
       "    </tr>\n",
       "  </tbody>\n",
       "</table>\n",
       "</div>"
      ],
      "text/plain": [
       "      0    1\n",
       "0   0.0  1.0\n",
       "1   0.0  1.0\n",
       "2   0.0  1.0\n",
       "3   1.0  0.0\n",
       "4   0.0  1.0\n",
       "5   1.0  0.0\n",
       "6   1.0  0.0\n",
       "7   0.0  1.0\n",
       "8   0.0  1.0\n",
       "9   1.0  0.0\n",
       "10  1.0  0.0\n",
       "11  1.0  0.0\n",
       "12  0.0  1.0\n",
       "13  0.0  1.0"
      ]
     },
     "execution_count": 37,
     "metadata": {},
     "output_type": "execute_result"
    }
   ],
   "source": [
    "enc_df"
   ]
  },
  {
   "cell_type": "code",
   "execution_count": 40,
   "id": "f4521828-e546-49c1-9fd6-9f412e24e426",
   "metadata": {},
   "outputs": [
    {
     "data": {
      "text/html": [
       "<div>\n",
       "<style scoped>\n",
       "    .dataframe tbody tr th:only-of-type {\n",
       "        vertical-align: middle;\n",
       "    }\n",
       "\n",
       "    .dataframe tbody tr th {\n",
       "        vertical-align: top;\n",
       "    }\n",
       "\n",
       "    .dataframe thead th {\n",
       "        text-align: right;\n",
       "    }\n",
       "</style>\n",
       "<table border=\"1\" class=\"dataframe\">\n",
       "  <thead>\n",
       "    <tr style=\"text-align: right;\">\n",
       "      <th></th>\n",
       "      <th>Customer ID</th>\n",
       "      <th>Age</th>\n",
       "      <th>Annual Income</th>\n",
       "      <th>Spending Score</th>\n",
       "      <th>Gender</th>\n",
       "    </tr>\n",
       "  </thead>\n",
       "  <tbody>\n",
       "    <tr>\n",
       "      <th>0</th>\n",
       "      <td>10108</td>\n",
       "      <td>23</td>\n",
       "      <td>15000</td>\n",
       "      <td>10</td>\n",
       "      <td>1</td>\n",
       "    </tr>\n",
       "    <tr>\n",
       "      <th>1</th>\n",
       "      <td>10109</td>\n",
       "      <td>21</td>\n",
       "      <td>20000</td>\n",
       "      <td>15</td>\n",
       "      <td>1</td>\n",
       "    </tr>\n",
       "    <tr>\n",
       "      <th>2</th>\n",
       "      <td>101010</td>\n",
       "      <td>24</td>\n",
       "      <td>25000</td>\n",
       "      <td>34</td>\n",
       "      <td>1</td>\n",
       "    </tr>\n",
       "    <tr>\n",
       "      <th>3</th>\n",
       "      <td>101011</td>\n",
       "      <td>25</td>\n",
       "      <td>27500</td>\n",
       "      <td>25</td>\n",
       "      <td>0</td>\n",
       "    </tr>\n",
       "    <tr>\n",
       "      <th>4</th>\n",
       "      <td>101012</td>\n",
       "      <td>23</td>\n",
       "      <td>45000</td>\n",
       "      <td>45</td>\n",
       "      <td>1</td>\n",
       "    </tr>\n",
       "    <tr>\n",
       "      <th>5</th>\n",
       "      <td>101013</td>\n",
       "      <td>26</td>\n",
       "      <td>23000</td>\n",
       "      <td>38</td>\n",
       "      <td>0</td>\n",
       "    </tr>\n",
       "    <tr>\n",
       "      <th>6</th>\n",
       "      <td>101014</td>\n",
       "      <td>28</td>\n",
       "      <td>43600</td>\n",
       "      <td>67</td>\n",
       "      <td>0</td>\n",
       "    </tr>\n",
       "    <tr>\n",
       "      <th>7</th>\n",
       "      <td>111015</td>\n",
       "      <td>30</td>\n",
       "      <td>21567</td>\n",
       "      <td>45</td>\n",
       "      <td>1</td>\n",
       "    </tr>\n",
       "    <tr>\n",
       "      <th>8</th>\n",
       "      <td>111016</td>\n",
       "      <td>23</td>\n",
       "      <td>45367</td>\n",
       "      <td>78</td>\n",
       "      <td>1</td>\n",
       "    </tr>\n",
       "    <tr>\n",
       "      <th>9</th>\n",
       "      <td>111017</td>\n",
       "      <td>25</td>\n",
       "      <td>45789</td>\n",
       "      <td>34</td>\n",
       "      <td>0</td>\n",
       "    </tr>\n",
       "    <tr>\n",
       "      <th>10</th>\n",
       "      <td>111018</td>\n",
       "      <td>28</td>\n",
       "      <td>23000</td>\n",
       "      <td>56</td>\n",
       "      <td>0</td>\n",
       "    </tr>\n",
       "    <tr>\n",
       "      <th>11</th>\n",
       "      <td>111019</td>\n",
       "      <td>29</td>\n",
       "      <td>21000</td>\n",
       "      <td>78</td>\n",
       "      <td>0</td>\n",
       "    </tr>\n",
       "    <tr>\n",
       "      <th>12</th>\n",
       "      <td>111020</td>\n",
       "      <td>31</td>\n",
       "      <td>47000</td>\n",
       "      <td>90</td>\n",
       "      <td>1</td>\n",
       "    </tr>\n",
       "    <tr>\n",
       "      <th>13</th>\n",
       "      <td>111021</td>\n",
       "      <td>27</td>\n",
       "      <td>23650</td>\n",
       "      <td>34</td>\n",
       "      <td>1</td>\n",
       "    </tr>\n",
       "  </tbody>\n",
       "</table>\n",
       "</div>"
      ],
      "text/plain": [
       "    Customer ID  Age  Annual Income  Spending Score  Gender\n",
       "0         10108   23          15000              10       1\n",
       "1         10109   21          20000              15       1\n",
       "2        101010   24          25000              34       1\n",
       "3        101011   25          27500              25       0\n",
       "4        101012   23          45000              45       1\n",
       "5        101013   26          23000              38       0\n",
       "6        101014   28          43600              67       0\n",
       "7        111015   30          21567              45       1\n",
       "8        111016   23          45367              78       1\n",
       "9        111017   25          45789              34       0\n",
       "10       111018   28          23000              56       0\n",
       "11       111019   29          21000              78       0\n",
       "12       111020   31          47000              90       1\n",
       "13       111021   27          23650              34       1"
      ]
     },
     "execution_count": 40,
     "metadata": {},
     "output_type": "execute_result"
    }
   ],
   "source": [
    "df"
   ]
  },
  {
   "cell_type": "code",
   "execution_count": null,
   "id": "e86c163f-3cbb-4f9d-ad37-a88f746c35b5",
   "metadata": {},
   "outputs": [],
   "source": []
  }
 ],
 "metadata": {
  "kernelspec": {
   "display_name": "Python 3 (ipykernel)",
   "language": "python",
   "name": "python3"
  },
  "language_info": {
   "codemirror_mode": {
    "name": "ipython",
    "version": 3
   },
   "file_extension": ".py",
   "mimetype": "text/x-python",
   "name": "python",
   "nbconvert_exporter": "python",
   "pygments_lexer": "ipython3",
   "version": "3.11.7"
  },
  "widgets": {
   "application/vnd.jupyter.widget-state+json": {
    "state": {},
    "version_major": 2,
    "version_minor": 0
   }
  }
 },
 "nbformat": 4,
 "nbformat_minor": 5
}
