{
 "cells": [
  {
   "cell_type": "code",
   "execution_count": null,
   "id": "af426ed0-9be1-4203-a108-311d974214fe",
   "metadata": {},
   "outputs": [],
   "source": [
    "Name : Mande Bhavesh Sandip\n",
    "Roll No : 26\n",
    "Practical No : 07"
   ]
  },
  {
   "cell_type": "code",
   "execution_count": 1,
   "id": "c5c8c270-f744-46cd-9d5e-ddc9d1561c64",
   "metadata": {},
   "outputs": [],
   "source": [
    "import warnings \n",
    "warnings.filterwarnings('ignore')"
   ]
  },
  {
   "cell_type": "code",
   "execution_count": 2,
   "id": "30cc848c-2ac0-43f6-8818-b1785256c96d",
   "metadata": {},
   "outputs": [
    {
     "name": "stdout",
     "output_type": "stream",
     "text": [
      "Requirement already satisfied: nltk in c:\\users\\satyam\\anaconda3\\lib\\site-packages (3.8.1)Note: you may need to restart the kernel to use updated packages.\n",
      "\n",
      "Requirement already satisfied: click in c:\\users\\satyam\\anaconda3\\lib\\site-packages (from nltk) (8.1.7)\n",
      "Requirement already satisfied: joblib in c:\\users\\satyam\\anaconda3\\lib\\site-packages (from nltk) (1.2.0)\n",
      "Requirement already satisfied: regex>=2021.8.3 in c:\\users\\satyam\\anaconda3\\lib\\site-packages (from nltk) (2023.10.3)\n",
      "Requirement already satisfied: tqdm in c:\\users\\satyam\\anaconda3\\lib\\site-packages (from nltk) (4.65.0)\n",
      "Requirement already satisfied: colorama in c:\\users\\satyam\\anaconda3\\lib\\site-packages (from click->nltk) (0.4.6)\n"
     ]
    }
   ],
   "source": [
    "pip install nltk"
   ]
  },
  {
   "cell_type": "code",
   "execution_count": 3,
   "id": "db164e1b-148e-4c15-bbf9-394952378ebc",
   "metadata": {},
   "outputs": [
    {
     "name": "stdout",
     "output_type": "stream",
     "text": [
      "Requirement already satisfied: stopwords in c:\\users\\satyam\\anaconda3\\lib\\site-packages (1.0.1)Note: you may need to restart the kernel to use updated packages.\n",
      "\n"
     ]
    }
   ],
   "source": [
    "pip install stopwords"
   ]
  },
  {
   "cell_type": "code",
   "execution_count": 5,
   "id": "4235b41a-9e3e-492d-bd9b-b1082ee48653",
   "metadata": {},
   "outputs": [
    {
     "name": "stderr",
     "output_type": "stream",
     "text": [
      "[nltk_data] Downloading package punkt to\n",
      "[nltk_data]     C:\\Users\\Satyam\\AppData\\Roaming\\nltk_data...\n",
      "[nltk_data]   Package punkt is already up-to-date!\n"
     ]
    },
    {
     "data": {
      "text/plain": [
       "True"
      ]
     },
     "execution_count": 5,
     "metadata": {},
     "output_type": "execute_result"
    }
   ],
   "source": [
    "import nltk \n",
    "nltk.download('punkt')"
   ]
  },
  {
   "cell_type": "code",
   "execution_count": 6,
   "id": "11e39332-5bd7-467a-a050-a86e94447ae9",
   "metadata": {},
   "outputs": [],
   "source": [
    "text='Hello I am Mande Bhavesh Sandip From Jaihind College Of Engineering Kuran'"
   ]
  },
  {
   "cell_type": "code",
   "execution_count": 7,
   "id": "bcebe337-1b90-4ad3-acc0-fc547d5c7eed",
   "metadata": {},
   "outputs": [
    {
     "name": "stdout",
     "output_type": "stream",
     "text": [
      "['Hello I am Mande Bhavesh Sandip From Jaihind College Of Engineering Kuran']\n"
     ]
    }
   ],
   "source": [
    "#Sentence Tokenization\n",
    "from nltk.tokenize import sent_tokenize\n",
    "tokenized_text= sent_tokenize(text)\n",
    "print(tokenized_text)\n",
    "\n"
   ]
  },
  {
   "cell_type": "code",
   "execution_count": 8,
   "id": "92abdfca-7e3a-4b90-9122-8d42d2be3593",
   "metadata": {},
   "outputs": [
    {
     "name": "stdout",
     "output_type": "stream",
     "text": [
      "['Hello', 'I', 'am', 'Mande', 'Bhavesh', 'Sandip', 'From', 'Jaihind', 'College', 'Of', 'Engineering', 'Kuran']\n"
     ]
    }
   ],
   "source": [
    "#Word Tokenization\n",
    "from nltk.tokenize import word_tokenize\n",
    "tokenized_word=word_tokenize(text) \n",
    "print(tokenized_word)"
   ]
  },
  {
   "cell_type": "code",
   "execution_count": 4,
   "id": "ea686fa9-56c6-4ebf-8239-21c03265faef",
   "metadata": {},
   "outputs": [
    {
     "name": "stderr",
     "output_type": "stream",
     "text": [
      "[nltk_data] Downloading package stopwords to\n",
      "[nltk_data]     C:\\Users\\Satyam\\AppData\\Roaming\\nltk_data...\n",
      "[nltk_data]   Package stopwords is already up-to-date!\n"
     ]
    },
    {
     "data": {
      "text/plain": [
       "True"
      ]
     },
     "execution_count": 4,
     "metadata": {},
     "output_type": "execute_result"
    }
   ],
   "source": [
    "import nltk\n",
    "nltk.download('stopwords')"
   ]
  },
  {
   "cell_type": "code",
   "execution_count": 29,
   "id": "64679ca0-e55d-4be9-b9f2-fa17e7608756",
   "metadata": {},
   "outputs": [
    {
     "name": "stdout",
     "output_type": "stream",
     "text": [
      "{'what', \"should've\", 'a', 'just', 'it', 'once', 'shan', 'same', 'again', \"won't\", 'your', 'himself', 'itself', \"you'll\", 'did', 'both', 'the', \"weren't\", \"doesn't\", 'herself', 'aren', 'which', 'them', 's', 'into', \"isn't\", 'with', 're', 'wasn', 'mustn', 'hasn', 'yourselves', \"hadn't\", 'will', 'themselves', \"wouldn't\", 'my', 'couldn', 'before', 'wouldn', 'do', 'his', \"you'd\", 'on', 'because', 'was', 'while', 'yours', 'some', 'over', 'how', 'to', 'in', 'is', 'having', 'all', 'you', \"mightn't\", 'up', 'whom', 'mightn', 'i', 'does', 'each', 'few', 'such', 'then', \"mustn't\", \"needn't\", 'from', 'why', 'weren', 'they', 'below', 'an', \"it's\", 'their', \"that'll\", \"you're\", 'this', 'ma', 'should', 'haven', 'where', 'don', 'd', 'we', 'but', 'our', 'isn', \"shan't\", 'those', 'these', 'between', 'am', 'didn', \"couldn't\", 'against', 't', 'that', 'm', \"hasn't\", 'been', 'doesn', 'hadn', 'ourselves', 'until', 'too', 'as', 'there', 'has', 'have', 'further', 'yourself', 'myself', 'being', 'won', \"wasn't\", 'if', 'about', 'through', 'were', 'now', 'for', 'more', 'at', 'nor', 'll', 'ain', 'be', 'own', 'most', \"haven't\", 'o', 'shouldn', 'or', 'had', 'other', 'only', 'me', 'she', 'by', 'ours', 'not', 'any', 'here', \"didn't\", 'are', 'him', 'out', 'its', 'doing', \"aren't\", \"she's\", 'can', 'he', 'y', \"shouldn't\", 'down', 'so', 'needn', 'hers', 'who', 'her', 'during', 'above', \"don't\", 've', 'when', 'under', 'off', 'no', 'than', 'theirs', 'and', \"you've\", 'after', 'very', 'of'}\n",
      "Tokenized Sentence: ['how', 'to', 'get', 'good', 'in', 'programming', 'of', 'python', '?']\n",
      "Filterd Sentence: ['get', 'good', 'programming', 'python', '?']\n"
     ]
    }
   ],
   "source": [
    "\n",
    "# print stop words of English\n",
    "from nltk.corpus import stopwords\n",
    "stop_words=set(stopwords.words(\"english\"))\n",
    "print(stop_words)\n",
    "\n",
    "text= \"How to get good in Programming of Python?\"\n",
    "tokens = word_tokenize(text.lower())\n",
    "filtered_text=[]\n",
    "for w in tokens:\n",
    " if w not in stop_words: filtered_text.append(w)\n",
    "print(\"Tokenized Sentence:\",tokens) \n",
    "print(\"Filterd Sentence:\",filtered_text)"
   ]
  },
  {
   "cell_type": "code",
   "execution_count": 34,
   "id": "31974b3d-4cea-4c72-b86e-474dec5e1fd9",
   "metadata": {},
   "outputs": [
    {
     "name": "stdout",
     "output_type": "stream",
     "text": [
      "wait\n",
      "wait\n",
      "wait\n",
      "wait\n"
     ]
    }
   ],
   "source": [
    "from nltk.stem import PorterStemmer\n",
    "e_words= [\"wait\", \"waiting\", \"waited\", \"waits\"]\n",
    "ps =PorterStemmer()\n",
    "for w in e_words:\n",
    " rootWord=ps.stem(w)\n",
    " print(rootWord)"
   ]
  },
  {
   "cell_type": "code",
   "execution_count": 5,
   "id": "eebcff40-aa99-4987-8c01-c8d90346e05b",
   "metadata": {},
   "outputs": [
    {
     "name": "stderr",
     "output_type": "stream",
     "text": [
      "[nltk_data] Downloading package averaged_perceptron_tagger to\n",
      "[nltk_data]     C:\\Users\\Satyam\\AppData\\Roaming\\nltk_data...\n",
      "[nltk_data]   Package averaged_perceptron_tagger is already up-to-\n",
      "[nltk_data]       date!\n"
     ]
    },
    {
     "data": {
      "text/plain": [
       "True"
      ]
     },
     "execution_count": 5,
     "metadata": {},
     "output_type": "execute_result"
    }
   ],
   "source": [
    "import nltk\n",
    "nltk.download('averaged_perceptron_tagger')\n",
    "  "
   ]
  },
  {
   "cell_type": "code",
   "execution_count": 42,
   "id": "cd42f46d-b32a-401a-8d22-d824c0aeb599",
   "metadata": {},
   "outputs": [
    {
     "name": "stdout",
     "output_type": "stream",
     "text": [
      "[('I', 'PRP')]\n",
      "[('like', 'IN')]\n",
      "[('light', 'NN')]\n",
      "[('purple', 'NN')]\n",
      "[('colour', 'NN')]\n",
      "[('more', 'RBR')]\n",
      "[('than', 'IN')]\n",
      "[('pink', 'NN')]\n"
     ]
    }
   ],
   "source": [
    "import nltk\n",
    "from nltk.tokenize import word_tokenize \n",
    "data=\"I like light purple colour more than pink\" \n",
    "words=word_tokenize(data)\n",
    "for word in words: print(nltk.pos_tag([word]))\n"
   ]
  },
  {
   "cell_type": "code",
   "execution_count": 43,
   "id": "29f2e8fe-e8f0-4914-ad6a-b91e7a6df1db",
   "metadata": {},
   "outputs": [],
   "source": [
    "#Algorithm for Create representation of document by calculating TFIDF \n",
    "import pandas as pd\n",
    "from sklearn.feature_extraction.text import TfidfVectorizer"
   ]
  },
  {
   "cell_type": "code",
   "execution_count": 45,
   "id": "337a26ee-2b4b-454c-9ae4-6d91b8d68e0f",
   "metadata": {},
   "outputs": [],
   "source": [
    "documentA = 'Jupiter is the largest Planet' \n",
    "documentB = 'Mars is the fourth planet from the Sun'"
   ]
  },
  {
   "cell_type": "code",
   "execution_count": 47,
   "id": "558ae636-1887-46f6-b5e3-0c38cc8e217f",
   "metadata": {},
   "outputs": [],
   "source": [
    "bagOfWordsA = documentA.split(' ')\n",
    "bagOfWordsB = documentB.split(' ')\n"
   ]
  },
  {
   "cell_type": "code",
   "execution_count": 48,
   "id": "98eda8e2-1dee-431a-bb69-857c85b06845",
   "metadata": {},
   "outputs": [],
   "source": [
    "uniqueWords = set(bagOfWordsA).union(set(bagOfWordsB))"
   ]
  },
  {
   "cell_type": "code",
   "execution_count": 58,
   "id": "a3a69b25-b78d-4d62-8d42-1069745c994c",
   "metadata": {},
   "outputs": [],
   "source": [
    "#Create a dictionary of words and their occurrence for each document in the corpus\n",
    "\n",
    "numOfWordsA = dict.fromkeys(uniqueWords, 0)\n",
    "for word in bagOfWordsA: numOfWordsA[word] += 1\n",
    "numOfWordsB = dict.fromkeys(uniqueWords, 0)\n",
    "for word in bagOfWordsB:\n",
    " numOfWordsB[word] += 1\n"
   ]
  },
  {
   "cell_type": "code",
   "execution_count": 77,
   "id": "bcb2b94b-80bb-4cbf-ac6e-66b8f505b52a",
   "metadata": {},
   "outputs": [],
   "source": [
    "#Compute the term frequency for each of our documents.\n",
    "def computeTF(wordDict, bagOfWords):\n",
    " tfDict = {}\n",
    " bagOfWordsCount = len(bagOfWords)\n",
    " for word, count in wordDict.items():\n",
    "  tfDict[word] = count / float(bagOfWordsCount) \n",
    " return tfDict\n",
    "tfA = computeTF(numOfWordsA, bagOfWordsA)\n",
    "tfB = computeTF(numOfWordsB, bagOfWordsB)\n",
    "\n"
   ]
  },
  {
   "cell_type": "code",
   "execution_count": 91,
   "id": "935aa562-cfeb-48ab-8887-bca508d58c25",
   "metadata": {},
   "outputs": [
    {
     "data": {
      "text/plain": [
       "{'the': 0.0,\n",
       " 'is': 0.0,\n",
       " 'Mars': 0.6931471805599453,\n",
       " 'Sun': 0.6931471805599453,\n",
       " 'from': 0.6931471805599453,\n",
       " 'planet': 0.6931471805599453,\n",
       " 'fourth': 0.6931471805599453,\n",
       " 'Jupiter': 0.6931471805599453,\n",
       " 'largest': 0.6931471805599453,\n",
       " 'Planet': 0.6931471805599453}"
      ]
     },
     "execution_count": 91,
     "metadata": {},
     "output_type": "execute_result"
    }
   ],
   "source": [
    "#Compute the term Inverse Document Frequency.\n",
    "def computeIDF(documents):\n",
    " import math\n",
    " N = len(documents)\n",
    "\n",
    " idfDict = dict.fromkeys(documents[0].keys(), 0)\n",
    " for document in documents:\n",
    "  for word, val in document.items():\n",
    "    if val > 0:\n",
    "\n",
    "      idfDict[word] += 1\n",
    "\n",
    " for word, val in idfDict.items(): idfDict[word] = math.log(N / float(val))\n",
    " return idfDict\n",
    "idfs = computeIDF([numOfWordsA, numOfWordsB]) \n",
    "idfs\n"
   ]
  },
  {
   "cell_type": "code",
   "execution_count": 107,
   "id": "5cf23f0f-4789-4259-8f4c-06af7ea1e6fe",
   "metadata": {},
   "outputs": [
    {
     "data": {
      "text/html": [
       "<div>\n",
       "<style scoped>\n",
       "    .dataframe tbody tr th:only-of-type {\n",
       "        vertical-align: middle;\n",
       "    }\n",
       "\n",
       "    .dataframe tbody tr th {\n",
       "        vertical-align: top;\n",
       "    }\n",
       "\n",
       "    .dataframe thead th {\n",
       "        text-align: right;\n",
       "    }\n",
       "</style>\n",
       "<table border=\"1\" class=\"dataframe\">\n",
       "  <thead>\n",
       "    <tr style=\"text-align: right;\">\n",
       "      <th></th>\n",
       "      <th>the</th>\n",
       "      <th>is</th>\n",
       "      <th>Mars</th>\n",
       "      <th>Sun</th>\n",
       "      <th>from</th>\n",
       "      <th>planet</th>\n",
       "      <th>fourth</th>\n",
       "      <th>Jupiter</th>\n",
       "      <th>largest</th>\n",
       "      <th>Planet</th>\n",
       "    </tr>\n",
       "  </thead>\n",
       "  <tbody>\n",
       "    <tr>\n",
       "      <th>0</th>\n",
       "      <td>0.0</td>\n",
       "      <td>0.0</td>\n",
       "      <td>0.000000</td>\n",
       "      <td>0.000000</td>\n",
       "      <td>0.000000</td>\n",
       "      <td>0.000000</td>\n",
       "      <td>0.000000</td>\n",
       "      <td>0.138629</td>\n",
       "      <td>0.138629</td>\n",
       "      <td>0.138629</td>\n",
       "    </tr>\n",
       "    <tr>\n",
       "      <th>1</th>\n",
       "      <td>0.0</td>\n",
       "      <td>0.0</td>\n",
       "      <td>0.086643</td>\n",
       "      <td>0.086643</td>\n",
       "      <td>0.086643</td>\n",
       "      <td>0.086643</td>\n",
       "      <td>0.086643</td>\n",
       "      <td>0.000000</td>\n",
       "      <td>0.000000</td>\n",
       "      <td>0.000000</td>\n",
       "    </tr>\n",
       "  </tbody>\n",
       "</table>\n",
       "</div>"
      ],
      "text/plain": [
       "   the   is      Mars       Sun      from    planet    fourth   Jupiter  \\\n",
       "0  0.0  0.0  0.000000  0.000000  0.000000  0.000000  0.000000  0.138629   \n",
       "1  0.0  0.0  0.086643  0.086643  0.086643  0.086643  0.086643  0.000000   \n",
       "\n",
       "    largest    Planet  \n",
       "0  0.138629  0.138629  \n",
       "1  0.000000  0.000000  "
      ]
     },
     "execution_count": 107,
     "metadata": {},
     "output_type": "execute_result"
    }
   ],
   "source": [
    "#Compute the term TF/IDF for all words.\n",
    "def computeTFIDF(tfBagOfWords, idfs):\n",
    " tfidf = {}\n",
    " for word, val in tfBagOfWords.items(): tfidf[word] = val * idfs[word]\n",
    " return tfidf\n",
    "tfidfA = computeTFIDF(tfA, idfs)\n",
    "tfidfB = computeTFIDF(tfB, idfs)\n",
    "df = pd.DataFrame([tfidfA, tfidfB])\n",
    "df\n"
   ]
  },
  {
   "cell_type": "code",
   "execution_count": null,
   "id": "433911fe-8812-43cd-bed3-c33d15e87763",
   "metadata": {},
   "outputs": [],
   "source": []
  }
 ],
 "metadata": {
  "kernelspec": {
   "display_name": "Python 3 (ipykernel)",
   "language": "python",
   "name": "python3"
  },
  "language_info": {
   "codemirror_mode": {
    "name": "ipython",
    "version": 3
   },
   "file_extension": ".py",
   "mimetype": "text/x-python",
   "name": "python",
   "nbconvert_exporter": "python",
   "pygments_lexer": "ipython3",
   "version": "3.11.7"
  },
  "widgets": {
   "application/vnd.jupyter.widget-state+json": {
    "state": {},
    "version_major": 2,
    "version_minor": 0
   }
  }
 },
 "nbformat": 4,
 "nbformat_minor": 5
}
